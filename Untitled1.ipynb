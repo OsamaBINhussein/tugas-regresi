{
  "nbformat": 4,
  "nbformat_minor": 0,
  "metadata": {
    "colab": {
      "provenance": []
    },
    "kernelspec": {
      "name": "python3",
      "display_name": "Python 3"
    },
    "language_info": {
      "name": "python"
    }
  },
  "cells": [
    {
      "cell_type": "code",
      "source": [
        "from sklearn.model_selection import train_test_split\n",
        "from sklearn.preprocessing import LabelEncoder\n",
        "from sklearn.impute import SimpleImputer\n",
        "from sklearn.linear_model import LogisticRegression\n",
        "from sklearn.neighbors import KNeighborsClassifier\n",
        "from sklearn.metrics import accuracy_score\n",
        "import pandas as pd\n",
        "\n",
        "# Load the dataset (replace with your actual dataset file path)\n",
        "data_path = 'diabetes.csv'  # Adjust if using another dataset\n",
        "data = pd.read_csv(data_path)\n",
        "\n",
        "# Preprocessing\n",
        "# Fill missing values with mode\n",
        "imputer = SimpleImputer(strategy='most_frequent')\n",
        "data_imputed = pd.DataFrame(imputer.fit_transform(data), columns=data.columns)\n",
        "\n",
        "# Apply Label Encoding for categorical columns if any\n",
        "label_encoders = {}\n",
        "for column in data_imputed.select_dtypes(include=['object']).columns:\n",
        "    le = LabelEncoder()\n",
        "    data_imputed[column] = le.fit_transform(data_imputed[column])\n",
        "    label_encoders[column] = le\n",
        "\n",
        "# Define features (X) and target (y)\n",
        "X = data_imputed.drop(columns=['Outcome'])  # Assuming 'Outcome' or 'result' is the target\n",
        "y = data_imputed['Outcome']\n",
        "\n",
        "# Split the dataset into training and testing sets\n",
        "X_train, X_test, y_train, y_test = train_test_split(X, y, test_size=0.2, random_state=42)\n",
        "\n",
        "# Model 1: Logistic Regression\n",
        "logistic_model = LogisticRegression()\n",
        "logistic_model.fit(X_train, y_train)\n",
        "y_pred_logistic = logistic_model.predict(X_test)\n",
        "accuracy_logistic = accuracy_score(y_test, y_pred_logistic)\n",
        "\n",
        "# Model 2: K-Nearest Neighbors\n",
        "knn_model = KNeighborsClassifier()\n",
        "knn_model.fit(X_train, y_train)\n",
        "y_pred_knn = knn_model.predict(X_test)\n",
        "accuracy_knn = accuracy_score(y_test, y_pred_knn)\n",
        "\n",
        "# Results\n",
        "accuracy_logistic, accuracy_knn\n"
      ],
      "metadata": {
        "colab": {
          "base_uri": "https://localhost:8080/"
        },
        "id": "6njboi9wFmDl",
        "outputId": "13fdf572-f547-48f1-9140-9be244afb44d"
      },
      "execution_count": 15,
      "outputs": [
        {
          "output_type": "stream",
          "name": "stderr",
          "text": [
            "/usr/local/lib/python3.10/dist-packages/sklearn/linear_model/_logistic.py:469: ConvergenceWarning: lbfgs failed to converge (status=1):\n",
            "STOP: TOTAL NO. of ITERATIONS REACHED LIMIT.\n",
            "\n",
            "Increase the number of iterations (max_iter) or scale the data as shown in:\n",
            "    https://scikit-learn.org/stable/modules/preprocessing.html\n",
            "Please also refer to the documentation for alternative solver options:\n",
            "    https://scikit-learn.org/stable/modules/linear_model.html#logistic-regression\n",
            "  n_iter_i = _check_optimize_result(\n"
          ]
        },
        {
          "output_type": "execute_result",
          "data": {
            "text/plain": [
              "(0.7467532467532467, 0.6623376623376623)"
            ]
          },
          "metadata": {},
          "execution_count": 15
        }
      ]
    },
    {
      "cell_type": "code",
      "source": [
        "# Import necessary libraries\n",
        "import numpy as np\n",
        "import pandas as pd\n",
        "from sklearn.model_selection import train_test_split\n",
        "from sklearn.preprocessing import LabelEncoder\n",
        "from sklearn.linear_model import LogisticRegression\n",
        "from sklearn.neighbors import KNeighborsClassifier\n",
        "from sklearn.metrics import accuracy_score\n",
        "\n",
        "# Load the dataset\n",
        "df = pd.read_csv('student_train.csv')  # Replace with your dataset path\n",
        "\n",
        "# Check for missing values\n",
        "print(\"Missing values before filling:\")\n",
        "print(df.isna().sum())\n",
        "\n",
        "# Fill missing values with mode\n",
        "for column in df.columns:\n",
        "    if df[column].isnull().any():\n",
        "        df[column].fillna(df[column].mode()[0], inplace=True)\n",
        "\n",
        "# Encode categorical variables\n",
        "label_encoders = {}\n",
        "for column in df.select_dtypes(include=['object']).columns:\n",
        "    le = LabelEncoder()\n",
        "    df[column] = le.fit_transform(df[column])\n",
        "    label_encoders[column] = le\n",
        "\n",
        "# Define features and target variable\n",
        "X = df.drop('result', axis=1)  # Features\n",
        "y = df['result']  # Target variable\n",
        "\n",
        "# Split the dataset into training and testing sets\n",
        "X_train, X_test, y_train, y_test = train_test_split(X, y, test_size=0.25, random_state=0)\n",
        "\n",
        "# Logistic Regression Model\n",
        "logistic_model = LogisticRegression(random_state=0)\n",
        "logistic_model.fit(X_train, y_train)\n",
        "y_pred_logistic = logistic_model.predict(X_test)\n",
        "accuracy_logistic = accuracy_score(y_test, y_pred_logistic)\n",
        "print(f\"Logistic Regression Accuracy: {accuracy_logistic:.2f}\")\n",
        "\n",
        "# K-Nearest Neighbors Model\n",
        "knn_model = KNeighborsClassifier(n_neighbors=5)\n",
        "knn_model.fit(X_train, y_train)\n",
        "y_pred_knn = knn_model.predict(X_test)\n",
        "accuracy_knn = accuracy_score(y_test, y_pred_knn)\n",
        "print(f\"KNN Accuracy: {accuracy_knn:.2f}\")"
      ],
      "metadata": {
        "colab": {
          "base_uri": "https://localhost:8080/"
        },
        "id": "ZqYPP1o3Kl-l",
        "outputId": "f74844f2-724d-4035-c71e-1b5e201b3e78"
      },
      "execution_count": 17,
      "outputs": [
        {
          "output_type": "stream",
          "name": "stdout",
          "text": [
            "Missing values before filling:\n",
            "id                     0\n",
            "sex                    0\n",
            "bdate               1168\n",
            "has_photo              0\n",
            "has_mobile             0\n",
            "followers_count        0\n",
            "graduation             0\n",
            "education_form       608\n",
            "relation               0\n",
            "education_status       0\n",
            "langs                  0\n",
            "life_main              0\n",
            "people_main            0\n",
            "city                 582\n",
            "last_seen              0\n",
            "occupation_type      193\n",
            "occupation_name      193\n",
            "career_start           0\n",
            "career_end             0\n",
            "result                 0\n",
            "dtype: int64\n"
          ]
        },
        {
          "output_type": "stream",
          "name": "stderr",
          "text": [
            "<ipython-input-17-10b91e3f8c81>:20: FutureWarning: A value is trying to be set on a copy of a DataFrame or Series through chained assignment using an inplace method.\n",
            "The behavior will change in pandas 3.0. This inplace method will never work because the intermediate object on which we are setting values always behaves as a copy.\n",
            "\n",
            "For example, when doing 'df[col].method(value, inplace=True)', try using 'df.method({col: value}, inplace=True)' or df[col] = df[col].method(value) instead, to perform the operation inplace on the original object.\n",
            "\n",
            "\n",
            "  df[column].fillna(df[column].mode()[0], inplace=True)\n",
            "/usr/local/lib/python3.10/dist-packages/sklearn/linear_model/_logistic.py:469: ConvergenceWarning: lbfgs failed to converge (status=1):\n",
            "STOP: TOTAL NO. of ITERATIONS REACHED LIMIT.\n",
            "\n",
            "Increase the number of iterations (max_iter) or scale the data as shown in:\n",
            "    https://scikit-learn.org/stable/modules/preprocessing.html\n",
            "Please also refer to the documentation for alternative solver options:\n",
            "    https://scikit-learn.org/stable/modules/linear_model.html#logistic-regression\n",
            "  n_iter_i = _check_optimize_result(\n"
          ]
        },
        {
          "output_type": "stream",
          "name": "stdout",
          "text": [
            "Logistic Regression Accuracy: 0.56\n",
            "KNN Accuracy: 0.51\n"
          ]
        }
      ]
    }
  ]
}